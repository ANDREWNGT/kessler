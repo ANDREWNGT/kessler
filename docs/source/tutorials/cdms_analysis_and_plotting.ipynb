{
 "cells": [
  {
   "cell_type": "markdown",
   "id": "polished-reply",
   "metadata": {},
   "source": [
    "## Analyze and plot loaded CDMs\n",
    "\n"
   ]
  },
  {
   "cell_type": "markdown",
   "id": "hindu-individual",
   "metadata": {},
   "source": [
    "In this tutorial, we show how to analyze and plot CDM data.\n",
    "\n",
    "We assume that data has been loaded (see `Basics` on how to do it) and that events are stored in the ``events`` variable. Then, we can first inspect some descriptive statistics and save it to a file:\n",
    "\n",
    "\n"
   ]
  },
  {
   "cell_type": "code",
   "execution_count": null,
   "id": "wrapped-thought",
   "metadata": {},
   "outputs": [],
   "source": [
    "import pandas as pd\n",
    "events_stats=events.to_dataframe().describe()"
   ]
  },
  {
   "cell_type": "markdown",
   "id": "strange-carol",
   "metadata": {},
   "source": [
    "Now, we can proceed in plotting events features. First, we start by plotting a single feature of a specific event (e.g. the 31st one):"
   ]
  },
  {
   "cell_type": "code",
   "execution_count": null,
   "id": "swiss-particle",
   "metadata": {},
   "outputs": [],
   "source": [
    "events[30].plot_feature('OBJECT1_CT_T', file_name='single_feature_single_event.pdf')"
   ]
  },
  {
   "cell_type": "markdown",
   "id": "alone-married",
   "metadata": {},
   "source": [
    "But we can also plot multiple features of multiple events in the same figure:\n"
   ]
  },
  {
   "cell_type": "code",
   "execution_count": null,
   "id": "outstanding-novel",
   "metadata": {},
   "outputs": [],
   "source": [
    "features=['OBJECT1_CT_T', 'OBJECT2_CT_T']\n",
    "events.plot_features(features, file_name='multi_features_multi_events.pdf')"
   ]
  },
  {
   "cell_type": "markdown",
   "id": "classical-dover",
   "metadata": {},
   "source": [
    "Furthermore, we can leverage a built-in function to plot the covariance matrix evolution of a specific event (all the covariance matrix elements will be plotted in multiple sub-figures):\n",
    "    "
   ]
  },
  {
   "cell_type": "code",
   "execution_count": null,
   "id": "surface-yahoo",
   "metadata": {},
   "outputs": [],
   "source": [
    "events[30].plot_uncertainty(file_name='uncertainties_single_event.pdf')\n"
   ]
  },
  {
   "cell_type": "markdown",
   "id": "light-medicare",
   "metadata": {},
   "source": [
    "And we can do the same as above, but for all the events:\n",
    "\n"
   ]
  },
  {
   "cell_type": "code",
   "execution_count": null,
   "id": "favorite-effort",
   "metadata": {},
   "outputs": [],
   "source": [
    "events.plot_uncertainty(file_name='uncertainties_multi_events.pdf')"
   ]
  },
  {
   "cell_type": "markdown",
   "id": "mathematical-mounting",
   "metadata": {},
   "source": [
    "Note that all these plotting methods support an optional ``apply_func`` argument that allows to apply a custom lambda function to the data before plotting."
   ]
  }
 ],
 "metadata": {
  "kernelspec": {
   "display_name": "Python 3",
   "language": "python",
   "name": "python3"
  },
  "language_info": {
   "codemirror_mode": {
    "name": "ipython",
    "version": 3
   },
   "file_extension": ".py",
   "mimetype": "text/x-python",
   "name": "python",
   "nbconvert_exporter": "python",
   "pygments_lexer": "ipython3",
   "version": "3.7.9"
  }
 },
 "nbformat": 4,
 "nbformat_minor": 5
}
